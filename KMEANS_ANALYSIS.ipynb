{
 "cells": [
  {
   "cell_type": "code",
   "execution_count": null,
   "metadata": {},
   "outputs": [],
   "source": [
    "#KMEANS_SCAN_ANALYSIS"
   ]
  },
  {
   "cell_type": "code",
   "execution_count": null,
   "metadata": {},
   "outputs": [],
   "source": [
    "import warnings\n",
    "warnings.filterwarnings('ignore')\n",
    "\n",
    "from mypackage.MyMethods import *\n",
    "\n",
    "import pandas as pd\n",
    "import numpy as np\n",
    "from plotnine import * \n",
    "from ots_eval.stability_evaluation.close import CLOSE\n",
    "\n",
    "from sklearn.preprocessing import StandardScaler\n",
    "from sklearn.cluster import KMeans\n",
    "from sklearn.metrics import silhouette_score\n",
    "\n",
    "from matplotlib import pyplot as plt\n",
    "\n",
    "%matplotlib inline"
   ]
  },
  {
   "cell_type": "code",
   "execution_count": null,
   "metadata": {},
   "outputs": [],
   "source": [
    "d1 = pd.read_csv(\"datasets/generated_1d_data.csv\")\n",
    "\n",
    "z = StandardScaler()\n",
    "d1[[\"time\", \"feature1\"]] = z.fit_transform(d1[[\"time\", \"feature1\"]])\n",
    "\n",
    "ggplot(d1, aes(x = \"time\", y = \"feature1\")) + geom_point() + theme_minimal()"
   ]
  },
  {
   "cell_type": "code",
   "execution_count": null,
   "metadata": {},
   "outputs": [],
   "source": [
    "#Nicht Vorhandene Werte von Zeitreihen simulieren\n",
    "sample_df = d1.sample(frac =.8)"
   ]
  },
  {
   "cell_type": "code",
   "execution_count": null,
   "metadata": {},
   "outputs": [],
   "source": [
    "#defekte (None) Werte von Zeitreihe simulieren\n",
    "dfupdate = sample_df.sample(frac = .2).index\n",
    "sample_df.loc[dfupdate, \"feature1\"] = np.NaN"
   ]
  },
  {
   "cell_type": "code",
   "execution_count": null,
   "metadata": {},
   "outputs": [],
   "source": [
    "#alle Rows mit NaN Werten droppen\n",
    "sample_df.dropna(subset=[\"object_id\", \"time\", \"feature1\"], inplace=True)"
   ]
  },
  {
   "cell_type": "code",
   "execution_count": null,
   "metadata": {},
   "outputs": [],
   "source": [
    "test_db1 = KMeans(23).fit(sample_df[[\"time\", \"feature1\"]])\n",
    "\n",
    "labsList = [\"Cluster \" + str(i) for i in range(0, len(set(test_db1.labels_)))]\n",
    "\n",
    "sample_df[\"assignments\"] = test_db1.labels_\n",
    "\n",
    "(ggplot(sample_df, aes(x = \"time\", y = \"feature1\", color = \"factor(assignments)\")) + geom_point() + theme_minimal() +\n",
    "    scale_color_discrete(name = \"Cluster Assignment\",\n",
    "                        labels = labsList) +\n",
    "theme(panel_grid_major = element_blank()) +\n",
    "labs(title = \"DBSCAN with eps = ?, min_samples = ? \"))"
   ]
  },
  {
   "cell_type": "code",
   "execution_count": null,
   "metadata": {},
   "outputs": [],
   "source": [
    "df_clustered = sample_df.loc[(sample_df.assignments >= 0)]\n",
    "\n",
    "silhouette_score(df_clustered[[\"time\", \"feature1\"]], df_clustered[[\"assignments\"]])"
   ]
  },
  {
   "cell_type": "code",
   "execution_count": null,
   "metadata": {},
   "outputs": [],
   "source": [
    "rater = CLOSE(sample_df[['object_id', 'time', 'assignments', 'feature1']], 'mae', 2, jaccard=True, weighting=True, exploitation_term=True)\n",
    "print(rater.rate_clustering())\n",
    "rater = CLOSE(sample_df[['object_id', 'time', 'assignments', 'feature1']], 'exploit', 2, jaccard=True, weighting=True)\n",
    "print(rater.rate_time_clustering())"
   ]
  },
  {
   "cell_type": "code",
   "execution_count": null,
   "metadata": {},
   "outputs": [],
   "source": [
    "#Spalten die gescaled wurden wieder zurückscalen\n",
    "d1[[\"time\", \"feature1\"]] = z.inverse_transform(d1[[\"time\", \"feature1\"]])\n",
    "sample_df[[\"time\", \"feature1\"]] = z.inverse_transform(sample_df[[\"time\", \"feature1\"]])"
   ]
  },
  {
   "cell_type": "code",
   "execution_count": null,
   "metadata": {},
   "outputs": [],
   "source": [
    "missing_rows = get_missing_rows(sample_df, \"object_id\", \"time\")\n",
    "for ids, time in missing_rows:\n",
    "    print(d1[(d1[\"object_id\"] == ids) & (d1[\"time\"] == time)].values)"
   ]
  },
  {
   "cell_type": "code",
   "execution_count": null,
   "metadata": {},
   "outputs": [],
   "source": [
    "most_frequent_cluster_member(sample_df, \"object_id\", \"time\", \"feature1\", \"assignments\")"
   ]
  },
  {
   "cell_type": "code",
   "execution_count": null,
   "metadata": {},
   "outputs": [],
   "source": [
    "pre_and_post_clustering_analysis(sample_df, \"object_id\", \"time\", \"feature1\", \"assignments\")"
   ]
  },
  {
   "cell_type": "code",
   "execution_count": null,
   "metadata": {},
   "outputs": [],
   "source": [
    "mean_of_all(sample_df, \"object_id\", \"time\", \"feature1\", \"assignments\")"
   ]
  },
  {
   "cell_type": "code",
   "execution_count": null,
   "metadata": {},
   "outputs": [],
   "source": [
    "median_of_all(sample_df, \"object_id\", \"time\", \"feature1\", \"assignments\")"
   ]
  },
  {
   "cell_type": "code",
   "execution_count": null,
   "metadata": {},
   "outputs": [],
   "source": [
    "median_of_all_test(sample_df,\"object_id\",  \"time\", \"feature1\", \"assignments\")"
   ]
  },
  {
   "cell_type": "code",
   "execution_count": null,
   "metadata": {},
   "outputs": [],
   "source": [
    "sample_df"
   ]
  }
 ],
 "metadata": {
  "kernelspec": {
   "display_name": "Python 3",
   "language": "python",
   "name": "python3"
  },
  "language_info": {
   "codemirror_mode": {
    "name": "ipython",
    "version": 3
   },
   "file_extension": ".py",
   "mimetype": "text/x-python",
   "name": "python",
   "nbconvert_exporter": "python",
   "pygments_lexer": "ipython3",
   "version": "3.8.5"
  }
 },
 "nbformat": 4,
 "nbformat_minor": 4
}
