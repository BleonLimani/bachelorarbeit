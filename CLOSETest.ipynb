{
 "cells": [
  {
   "cell_type": "code",
   "execution_count": 1,
   "metadata": {},
   "outputs": [],
   "source": [
    "import pandas\n",
    "from ots_eval.stability_evaluation.close import CLOSE\n",
    "import numpy as np\n",
    "import csv\n",
    "from sklearn.cluster import DBSCAN\n",
    "from collections import Counter\n",
    "from sklearn.preprocessing import StandardScaler\n",
    "import matplotlib.pyplot as plt\n",
    "from pylab import rcParams\n",
    "rcParams['figure.figsize'] = 14, 6\n",
    "import seaborn as sns\n",
    "\n",
    "%matplotlib inline"
   ]
  },
  {
   "cell_type": "code",
   "execution_count": 2,
   "metadata": {},
   "outputs": [
    {
     "data": {
      "text/html": [
       "<div>\n",
       "<style scoped>\n",
       "    .dataframe tbody tr th:only-of-type {\n",
       "        vertical-align: middle;\n",
       "    }\n",
       "\n",
       "    .dataframe tbody tr th {\n",
       "        vertical-align: top;\n",
       "    }\n",
       "\n",
       "    .dataframe thead th {\n",
       "        text-align: right;\n",
       "    }\n",
       "</style>\n",
       "<table border=\"1\" class=\"dataframe\">\n",
       "  <thead>\n",
       "    <tr style=\"text-align: right;\">\n",
       "      <th></th>\n",
       "      <th>object_id</th>\n",
       "      <th>time</th>\n",
       "      <th>feature1</th>\n",
       "    </tr>\n",
       "  </thead>\n",
       "  <tbody>\n",
       "    <tr>\n",
       "      <th>0</th>\n",
       "      <td>1</td>\n",
       "      <td>1</td>\n",
       "      <td>0.800000</td>\n",
       "    </tr>\n",
       "    <tr>\n",
       "      <th>1</th>\n",
       "      <td>2</td>\n",
       "      <td>1</td>\n",
       "      <td>0.808568</td>\n",
       "    </tr>\n",
       "    <tr>\n",
       "      <th>2</th>\n",
       "      <td>3</td>\n",
       "      <td>1</td>\n",
       "      <td>0.791467</td>\n",
       "    </tr>\n",
       "    <tr>\n",
       "      <th>3</th>\n",
       "      <td>4</td>\n",
       "      <td>1</td>\n",
       "      <td>0.809371</td>\n",
       "    </tr>\n",
       "    <tr>\n",
       "      <th>4</th>\n",
       "      <td>5</td>\n",
       "      <td>1</td>\n",
       "      <td>0.764732</td>\n",
       "    </tr>\n",
       "  </tbody>\n",
       "</table>\n",
       "</div>"
      ],
      "text/plain": [
       "   object_id  time  feature1\n",
       "0          1     1  0.800000\n",
       "1          2     1  0.808568\n",
       "2          3     1  0.791467\n",
       "3          4     1  0.809371\n",
       "4          5     1  0.764732"
      ]
     },
     "execution_count": 2,
     "metadata": {},
     "output_type": "execute_result"
    }
   ],
   "source": [
    "data1 = pandas.read_csv(\"datasets/generated_1d_data.csv\")\n",
    "data1.head()"
   ]
  },
  {
   "cell_type": "code",
   "execution_count": 3,
   "metadata": {},
   "outputs": [
    {
     "name": "stdout",
     "output_type": "stream",
     "text": [
      "<class 'pandas.core.frame.DataFrame'>\n",
      "RangeIndex: 232 entries, 0 to 231\n",
      "Data columns (total 3 columns):\n",
      " #   Column     Non-Null Count  Dtype  \n",
      "---  ------     --------------  -----  \n",
      " 0   object_id  232 non-null    int64  \n",
      " 1   time       232 non-null    int64  \n",
      " 2   feature1   232 non-null    float64\n",
      "dtypes: float64(1), int64(2)\n",
      "memory usage: 5.6 KB\n"
     ]
    }
   ],
   "source": [
    "data1.info()"
   ]
  },
  {
   "cell_type": "code",
   "execution_count": 4,
   "metadata": {},
   "outputs": [
    {
     "data": {
      "image/png": "[encoded data removed]",
      "text/plain": [
       "<Figure size 1080x720 with 1 Axes>"
      ]
     },
     "metadata": {
      "needs_background": "light"
     },
     "output_type": "display_data"
    }
   ],
   "source": [
    "plt.figure(figsize=(15,10))\n",
    "_ = plt.plot(data1['time'], data1['feature1'],\n",
    "            marker='.', linewidth=0, color='#128128')\n",
    "_ = plt.grid(which='major', color='#cccccc', alpha=0.45)\n",
    "_ = plt.title('Test Data', family='Arial', fontsize=12)\n",
    "_ = plt.xlabel('Time')\n",
    "_ = plt.ylabel('feature1')\n",
    "_ = plt.show()"
   ]
  },
  {
   "cell_type": "code",
   "execution_count": null,
   "metadata": {},
   "outputs": [],
   "source": [
    "sns.pairplot(data1)"
   ]
  },
  {
   "cell_type": "code",
   "execution_count": null,
   "metadata": {},
   "outputs": [],
   "source": [
    "dbscan_data = data1[['time', 'feature1']]\n",
    "dbscan_data = dbscan_data.values.astype('float32', copy=False)\n",
    "dbscan_data"
   ]
  },
  {
   "cell_type": "code",
   "execution_count": null,
   "metadata": {},
   "outputs": [],
   "source": [
    "dbscan_data_scaler = StandardScaler()\n",
    "dbscan_data = dbscan_data_scaler.fit_transform(dbscan_data)\n",
    "dbscan_data"
   ]
  },
  {
   "cell_type": "code",
   "execution_count": null,
   "metadata": {},
   "outputs": [],
   "source": [
    "model = DBSCAN(eps=0.25, min_samples=3).fit(dbscan_data)\n",
    "model"
   ]
  },
  {
   "cell_type": "code",
   "execution_count": null,
   "metadata": {},
   "outputs": [],
   "source": [
    "outliers_df = data1[model.labels_ == -1]\n",
    "clusters_df = data1[model.labels_ != -1]\n",
    "\n",
    "colors = model.labels_\n",
    "colors_clusters = colors[colors != -1]\n",
    "color_outliers = 'black'\n",
    "\n",
    "clusters = Counter(model.labels_)\n",
    "print(clusters)\n",
    "print(data1[model.labels_ == -1].head())\n",
    "print('Number of clusters = {}' .format(len(clusters)-1))"
   ]
  },
  {
   "cell_type": "code",
   "execution_count": null,
   "metadata": {},
   "outputs": [],
   "source": [
    "model.labels_"
   ]
  },
  {
   "cell_type": "code",
   "execution_count": null,
   "metadata": {},
   "outputs": [],
   "source": [
    "clusters_df"
   ]
  },
  {
   "cell_type": "code",
   "execution_count": null,
   "metadata": {},
   "outputs": [],
   "source": [
    "outliers_df"
   ]
  },
  {
   "cell_type": "code",
   "execution_count": null,
   "metadata": {},
   "outputs": [],
   "source": [
    "df = pandas.read_csv('datasets/generated_1d_data.csv')\n",
    "df_list = df.values.tolist()\n",
    "print(df_list)"
   ]
  },
  {
   "cell_type": "code",
   "execution_count": null,
   "metadata": {},
   "outputs": [],
   "source": [
    "t1.append(pd.DataFrame([[7,8,9]], columns=[\"hans\",\"peter\",\"james\"])) #beispiel append fuer df"
   ]
  },
  {
   "cell_type": "code",
   "execution_count": 5,
   "metadata": {},
   "outputs": [],
   "source": [
    "import warnings\n",
    "warnings.filterwarnings('ignore')\n",
    "\n",
    "from pandas.core.common import flatten\n",
    "import random\n",
    "import statistics\n",
    "import pandas as pd\n",
    "import numpy as np\n",
    "from plotnine import * \n",
    "from ots_eval.stability_evaluation.close import CLOSE\n",
    "\n",
    "from sklearn.preprocessing import StandardScaler\n",
    "from sklearn.neighbors import NearestNeighbors\n",
    "\n",
    "from sklearn.cluster import DBSCAN\n",
    "from sklearn.cluster import KMeans\n",
    "\n",
    "from sklearn.metrics import silhouette_score\n",
    "\n",
    "from matplotlib import pyplot as plt\n",
    "\n",
    "%matplotlib inline"
   ]
  },
  {
   "cell_type": "code",
   "execution_count": 9,
   "metadata": {},
   "outputs": [
    {
     "data": {
      "text/plain": [
       "<matplotlib.collections.PathCollection at 0x1c46de725e0>"
      ]
     },
     "execution_count": 9,
     "metadata": {},
     "output_type": "execute_result"
    },
    {
     "data": {
      "image/png": "[encoded data removed]",
      "text/plain": [
       "<Figure size 432x288 with 1 Axes>"
      ]
     },
     "metadata": {
      "needs_background": "light"
     },
     "output_type": "display_data"
    }
   ],
   "source": [
    "plt.scatter(d1[[\"time\"]], d1[[\"feature1\"]])"
   ]
  },
  {
   "cell_type": "code",
   "execution_count": 8,
   "metadata": {},
   "outputs": [
    {
     "data": {
      "image/png": "[encoded data removed]",
      "text/plain": [
       "<Figure size 640x480 with 1 Axes>"
      ]
     },
     "metadata": {
      "needs_background": "light"
     },
     "output_type": "display_data"
    },
    {
     "data": {
      "text/plain": [
       "<ggplot: (121447902669)>"
      ]
     },
     "execution_count": 8,
     "metadata": {},
     "output_type": "execute_result"
    }
   ],
   "source": [
    "d1 = pd.read_csv(\"datasets/generated_1d_data.csv\")\n",
    "\n",
    "d1.head()\n",
    "z = StandardScaler()\n",
    "d1[[\"time\", \"feature1\"]] = z.fit_transform(d1[[\"time\", \"feature1\"]])\n",
    "\n",
    "ggplot(d1, aes(x = \"time\", y = \"feature1\")) + geom_point() + theme_minimal()"
   ]
  },
  {
   "cell_type": "code",
   "execution_count": 10,
   "metadata": {
    "scrolled": false
   },
   "outputs": [
    {
     "data": {
      "image/png": "[encoded data removed]",
      "text/plain": [
       "<Figure size 640x480 with 1 Axes>"
      ]
     },
     "metadata": {
      "needs_background": "light"
     },
     "output_type": "display_data"
    },
    {
     "data": {
      "text/plain": [
       "<ggplot: (121448093949)>"
      ]
     },
     "execution_count": 10,
     "metadata": {},
     "output_type": "execute_result"
    }
   ],
   "source": [
    "test_db1 = DBSCAN(eps = 0.35, min_samples = 3).fit(d1[[\"time\", \"feature1\"]])\n",
    "\n",
    "labsList = [\"Noise\"]\n",
    "labsList = labsList + [\"Cluster \" + str(i) for i in range(1, len(set(test_db1.labels_)))]\n",
    "\n",
    "d1[\"assignments\"] = test_db1.labels_\n",
    "\n",
    "(ggplot(d1, aes(x = \"time\", y = \"feature1\", color = \"factor(assignments)\")) + geom_point() + theme_minimal() +\n",
    "    scale_color_discrete(name = \"Cluster Assignment\",\n",
    "                        labels = labsList) +\n",
    "theme(panel_grid_major = element_blank()) +\n",
    "labs(title = \"DBSCAN with eps = ?, min_samples = ? \"))"
   ]
  },
  {
   "cell_type": "code",
   "execution_count": 11,
   "metadata": {},
   "outputs": [
    {
     "data": {
      "text/plain": [
       "0.4494636684596996"
      ]
     },
     "execution_count": 11,
     "metadata": {},
     "output_type": "execute_result"
    }
   ],
   "source": [
    "d1_clustered = d1.loc[(d1.assignments >= 0)]\n",
    "\n",
    "silhouette_score(d1_clustered[[\"time\", \"feature1\"]], d1_clustered[[\"assignments\"]])"
   ]
  },
  {
   "cell_type": "code",
   "execution_count": 12,
   "metadata": {},
   "outputs": [
    {
     "name": "stdout",
     "output_type": "stream",
     "text": [
      "0.4361032337356829\n",
      "0.4837081210861121\n"
     ]
    }
   ],
   "source": [
    "rater = CLOSE(d1[['object_id', 'time', 'assignments', 'feature1']], 'mae', 2, jaccard=True, weighting=True, exploitation_term=True)\n",
    "print(rater.rate_clustering())\n",
    "rater = CLOSE(d1[['object_id', 'time', 'assignments', 'feature1']], 'exploit', 2, jaccard=True, weighting=True)\n",
    "print(rater.rate_time_clustering())"
   ]
  },
  {
   "cell_type": "code",
   "execution_count": 13,
   "metadata": {},
   "outputs": [],
   "source": [
    "#Nicht Vorhandene Werte von Zeitreihen simulieren\n",
    "sample_df = d1.sample(frac =.8)\n",
    "\n",
    "#defekte (None) Werte von Zeitreihe simulieren\n",
    "#dfupdate = sample_df.sample(frac = .2)\n",
    "#dfupdate.feature1 = None\n",
    "#sample_df.update(dfupdate)"
   ]
  },
  {
   "cell_type": "code",
   "execution_count": 14,
   "metadata": {},
   "outputs": [],
   "source": [
    "#Spalten die gescaled wurden wieder zurückscalen\n",
    "d1[[\"time\", \"feature1\"]] = z.inverse_transform(d1[[\"time\", \"feature1\"]])\n",
    "sample_df[[\"time\", \"feature1\"]] = z.inverse_transform(sample_df[[\"time\", \"feature1\"]])"
   ]
  },
  {
   "cell_type": "code",
   "execution_count": 15,
   "metadata": {
    "scrolled": true
   },
   "outputs": [],
   "source": [
    "#rausfiltern der komplett verlorenen Zeilen *(id, time)\n",
    "missing_rows = get_missing_rows(sample_df, \"object_id\", \"time\")"
   ]
  },
  {
   "cell_type": "code",
   "execution_count": 111,
   "metadata": {},
   "outputs": [],
   "source": [
    "def get_missing_rows(dataframe, df_id_name, df_time_name):  #df_feature_name\n",
    "    id_list = list(set(dataframe[df_id_name]))\n",
    "    time_list = list(set(dataframe[df_time_name]))\n",
    "    result = []\n",
    "\n",
    "    for id_elem in id_list:\n",
    "        for time_elem in time_list:\n",
    "            if dataframe[(dataframe[df_id_name] == id_elem) & (dataframe[df_time_name] == time_elem)].empty: # | dataframe[(dataframe[df_feature_name] == None)]\n",
    "                result.append([id_elem, time_elem])\n",
    "    \n",
    "    return result  "
   ]
  },
  {
   "cell_type": "code",
   "execution_count": 112,
   "metadata": {},
   "outputs": [],
   "source": [
    "def id_assignments_list(dataframe, missing_id_list, df_id_name, df_cluster_name):\n",
    "    id_assignment_list = []\n",
    "    needed_assignments = []\n",
    "\n",
    "    for id_elem in missing_id_list:\n",
    "        needed_assignments = list(set(getattr(dataframe[dataframe[df_id_name] == id_elem], df_cluster_name)))\n",
    "        if -1 in needed_assignments:\n",
    "            needed_assignments.remove(-1)\n",
    "        id_assignment_list.append([id_elem, list(needed_assignments)])\n",
    "        needed_assignments.clear()\n",
    "\n",
    "    return id_assignment_list"
   ]
  },
  {
   "cell_type": "code",
   "execution_count": 113,
   "metadata": {},
   "outputs": [],
   "source": [
    "def id_mfcm_list(missing_id_list, id_assignment_list):\n",
    "    most_frequent_cluster_member = []\n",
    "    mfcm_ids = []\n",
    "    current_count = 0\n",
    "    biggest_count = 0\n",
    "\n",
    "    for missing_id_elem in missing_id_list:\n",
    "        for id_elem, assignments_elem in id_assignment_list:\n",
    "            if missing_id_elem != id_elem:\n",
    "                current_count = len(set(id_assignment_list[missing_id_list.index(missing_id_elem)][1]).intersection(assignments_elem))\n",
    "                if current_count == biggest_count:\n",
    "                    mfcm_ids.append(id_elem)\n",
    "                if current_count > biggest_count:\n",
    "                    biggest_count = current_count\n",
    "                    mfcm_ids.clear()\n",
    "                    mfcm_ids.append(id_elem)\n",
    "        most_frequent_cluster_member.append([missing_id_elem, list(mfcm_ids)])\n",
    "        mfcm_ids.clear()\n",
    "        biggest_count = 0\n",
    "\n",
    "    return most_frequent_cluster_member"
   ]
  },
  {
   "cell_type": "code",
   "execution_count": 114,
   "metadata": {},
   "outputs": [],
   "source": [
    "def most_frequent_cluster_member(dataframe, df_id_name, df_time_name, df_feature_name, df_cluster_name):\n",
    "    missing_rows = get_missing_rows(dataframe, df_id_name, df_time_name)\n",
    "    missing_id_list = sorted(list(set([item[0] for item in missing_rows])))\n",
    "    id_assignment_list = id_assignments_list(dataframe, missing_id_list, df_id_name, df_cluster_name)\n",
    "    mfcm = id_mfcm_list(missing_id_list, id_assignment_list)\n",
    "    mfcm_id_list = [item[0] for item in mfcm]\n",
    "    middle = []\n",
    "    result = []\n",
    "    \n",
    "    for missing_id_elem, missing_time_elem in missing_rows:\n",
    "        for cluster_member in mfcm[mfcm_id_list.index(missing_id_elem)][1]:\n",
    "            if getattr(dataframe[(dataframe[df_id_name] == cluster_member) & (dataframe[df_time_name] == missing_time_elem)], df_feature_name).values:\n",
    "                middle.append(getattr(dataframe[(dataframe[df_id_name] == cluster_member) & (dataframe[df_time_name] == missing_time_elem)], df_feature_name).values)\n",
    "        if middle:\n",
    "            result.append([missing_id_elem, missing_time_elem, list(statistics.median(middle))])\n",
    "            middle.clear()\n",
    "        else:\n",
    "            result.append([missing_id_elem, missing_time_elem, [\"-----------------\"]])\n",
    "        \n",
    "    return result"
   ]
  },
  {
   "cell_type": "code",
   "execution_count": 115,
   "metadata": {},
   "outputs": [],
   "source": [
    "def pre_features(dataframe, list_of_ids, time, df_id_name, df_time_name, df_feature_name):\n",
    "    df_times = list(set(getattr(dataframe, df_time_name)))\n",
    "    df_times.reverse()\n",
    "    index = df_times.index(time)\n",
    "    pre_features = []\n",
    "    \n",
    "    for id_elem in list_of_ids:\n",
    "        for time_elem in df_times[index+1:]:\n",
    "            row = dataframe[(dataframe[df_id_name] == id_elem) & (dataframe[df_time_name] == time_elem)]\n",
    "            if not row.empty:\n",
    "                if not getattr(row, df_feature_name).values is None:\n",
    "                    pre_features.append(getattr(row, df_feature_name).values)\n",
    "                    break\n",
    "    \n",
    "    return pre_features"
   ]
  },
  {
   "cell_type": "code",
   "execution_count": 116,
   "metadata": {},
   "outputs": [],
   "source": [
    "def post_features(dataframe, list_of_ids, time, df_id_name, df_time_name, df_feature_name):\n",
    "    df_times = list(set(getattr(dataframe, df_time_name)))\n",
    "    index = df_times.index(time)\n",
    "    post_features = []\n",
    "    \n",
    "    for id_elem in list_of_ids:\n",
    "        for time_elem in df_times[index+1:]:\n",
    "            row = dataframe[(dataframe[df_id_name] == id_elem) & (dataframe[df_time_name] == time_elem)]\n",
    "            if not row.empty:\n",
    "                if not getattr(row, df_feature_name).values is None:\n",
    "                    post_features.append(getattr(row, df_feature_name).values)\n",
    "                    break\n",
    "    \n",
    "    return post_features"
   ]
  },
  {
   "cell_type": "code",
   "execution_count": 117,
   "metadata": {},
   "outputs": [],
   "source": [
    "def pre_and_post_features(dataframe, list_of_ids, time, df_id_name, df_time_name, df_feature_name):\n",
    "    result = []\n",
    "    \n",
    "    result.extend(pre_features(dataframe, list_of_ids, time, df_id_name, df_time_name, df_feature_name))\n",
    "    result.extend(post_features(dataframe, list_of_ids, time, df_id_name, df_time_name, df_feature_name))\n",
    "\n",
    "    return result"
   ]
  },
  {
   "cell_type": "code",
   "execution_count": 118,
   "metadata": {},
   "outputs": [],
   "source": [
    "def pre_and_post_clustering_analysis(dataframe, df_id_name, df_time_name, df_feature_name, df_cluster_name):\n",
    "    missing_rows = get_missing_rows(dataframe, df_id_name, df_time_name)\n",
    "    missing_id_list = sorted(list(set([item[0] for item in missing_rows])))\n",
    "    id_assignment_list = id_assignments_list(dataframe, missing_id_list, df_id_name, df_cluster_name)\n",
    "    mfcm = id_mfcm_list(missing_id_list, id_assignment_list)\n",
    "    result = []\n",
    "    \n",
    "    for id_elem, time_elem in missing_rows:\n",
    "        for index in range(len(mfcm)):\n",
    "            if id_elem == mfcm[index][0]:\n",
    "                result.append([id_elem, time_elem, statistics.median(pre_and_post_features(dataframe, list(flatten(mfcm[index])), time_elem, df_id_name, df_time_name, df_feature_name)).tolist()])\n",
    "    \n",
    "    return result\n",
    "            "
   ]
  },
  {
   "cell_type": "code",
   "execution_count": 119,
   "metadata": {},
   "outputs": [],
   "source": [
    "def median_of_all(dataframe, df_id_name, df_time_name, df_feature_name, df_cluster_name):\n",
    "    missing_rows = get_missing_rows(dataframe, df_id_name, df_time_name)\n",
    "    missing_time_list = sorted(list(set([item[1] for item in missing_rows])))\n",
    "    medians = median_of_clusterings(dataframe, missing_time_list, df_time_name, df_feature_name, df_cluster_name)\n",
    "    median_index_list = [item[0] for item in medians]\n",
    "    result = []\n",
    "    \n",
    "    for id_elem, time_elem in missing_rows:\n",
    "        result.append([id_elem, time_elem, medians[median_index_list.index(time_elem)][1]])\n",
    "    \n",
    "    return result"
   ]
  },
  {
   "cell_type": "code",
   "execution_count": 120,
   "metadata": {},
   "outputs": [],
   "source": [
    "def median_of_clusterings_test(dataframe, df_time_name, df_feature_name, df_cluster_name):\n",
    "    middle = []\n",
    "    result = []\n",
    "    assignments_list = list(set(getattr(dataframe, df_cluster_name).values))\n",
    "    \n",
    "    for cluster_elem in assignments_list:\n",
    "        if cluster_elem != -1:\n",
    "            for feature_elem in list(set(getattr(dataframe[dataframe[df_cluster_name] == cluster_elem], df_feature_name).values)):\n",
    "                if feature_elem != None:\n",
    "                    middle.append(feature_elem)\n",
    "            result.append([cluster_elem, statistics.median(middle)])\n",
    "            middle.clear()\n",
    "   \n",
    "    return result"
   ]
  },
  {
   "cell_type": "code",
   "execution_count": 121,
   "metadata": {},
   "outputs": [],
   "source": [
    "def median_of_all_test(dataframe, df_id_name, df_time_name, df_feature_name, df_cluster_name):\n",
    "    missing_rows = get_missing_rows(dataframe, df_id_name, df_time_name)\n",
    "    missing_id_list = sorted(list(set([item[0] for item in missing_rows])))\n",
    "    id_assignment_list = id_assignments_list(dataframe, missing_id_list, df_id_name, df_cluster_name)\n",
    "    id_assignment_index_list = [item[0] for item in id_assignment_list]\n",
    "    cluster_median_list = median_of_clusterings_test(dataframe, df_time_name, df_feature_name, df_cluster_name)\n",
    "    cluster_median_index_list = [item[0] for item in cluster_median_list]\n",
    "    middle = []\n",
    "    result = []\n",
    "    \n",
    "    for missing_id_elem, missing_time_elem in missing_rows:\n",
    "        for assignment in id_assignment_list[id_assignment_index_list.index(missing_id_elem)][1]:\n",
    "            middle.append(cluster_median_list[cluster_median_index_list.index(assignment)][1])\n",
    "        result.append([missing_id_elem, missing_time_elem, statistics.median(middle)])\n",
    "        middle.clear()\n",
    "    \n",
    "    return result"
   ]
  },
  {
   "cell_type": "code",
   "execution_count": 122,
   "metadata": {},
   "outputs": [],
   "source": [
    "def median_of_clusterings(dataframe, missing_time_list, df_time_name, df_feature_name, df_cluster_name):\n",
    "    median = []\n",
    "    median_of_medians = []\n",
    "    \n",
    "    for missing_time_elem in missing_time_list:\n",
    "            assignments = list(set(getattr(dataframe[(dataframe[df_time_name] == missing_time_elem)], df_cluster_name)))\n",
    "            if -1 in assignments:\n",
    "                assignments.remove(-1)\n",
    "            for assign_elem in assignments:\n",
    "                median.append(statistics.median(getattr(dataframe[(dataframe[df_time_name] == missing_time_elem) & (dataframe[df_cluster_name] == assign_elem)], df_feature_name)))\n",
    "            median_of_medians.append([missing_time_elem, statistics.median(median)])\n",
    "            median.clear()\n",
    "\n",
    "    return median_of_medians"
   ]
  },
  {
   "cell_type": "code",
   "execution_count": 123,
   "metadata": {},
   "outputs": [],
   "source": [
    "def mean_of_all(dataframe, df_id_name, df_time_name, df_feature_name, df_cluster_name):\n",
    "    missing_rows = get_missing_rows(dataframe, df_id_name, df_time_name)\n",
    "    missing_time_list = sorted(list(set([item[1] for item in missing_rows])))\n",
    "    means = mean_of_clusterings(dataframe, missing_time_list, df_time_name, df_feature_name, df_cluster_name)\n",
    "    mean_index_list = [item[0] for item in means]\n",
    "    result = []\n",
    "    \n",
    "    for id_elem, time_elem in missing_rows:\n",
    "        result.append([id_elem, time_elem, means[mean_index_list.index(time_elem)][1]])\n",
    "    \n",
    "    return result"
   ]
  },
  {
   "cell_type": "code",
   "execution_count": 124,
   "metadata": {},
   "outputs": [],
   "source": [
    "def mean_of_clusterings(dataframe, missing_time_list, df_time_name, df_feature_name, df_cluster_name):\n",
    "    mean = []\n",
    "    mean_of_means = []\n",
    "    \n",
    "    for missing_time_elem in missing_time_list:\n",
    "            assignments = list(set(getattr(dataframe[(dataframe[df_time_name] == missing_time_elem)], df_cluster_name)))\n",
    "            if -1 in assignments:\n",
    "                assignments.remove(-1)\n",
    "            for assign_elem in assignments:\n",
    "                mean.append(statistics.mean(getattr(dataframe[(dataframe[df_time_name] == missing_time_elem) & (dataframe[df_cluster_name] == assign_elem)], df_feature_name)))\n",
    "            mean_of_means.append([missing_time_elem, statistics.mean(mean)])\n",
    "            mean.clear()\n",
    "\n",
    "    return mean_of_means"
   ]
  },
  {
   "cell_type": "code",
   "execution_count": 106,
   "metadata": {},
   "outputs": [
    {
     "data": {
      "text/html": [
       "<div>\n",
       "<style scoped>\n",
       "    .dataframe tbody tr th:only-of-type {\n",
       "        vertical-align: middle;\n",
       "    }\n",
       "\n",
       "    .dataframe tbody tr th {\n",
       "        vertical-align: top;\n",
       "    }\n",
       "\n",
       "    .dataframe thead th {\n",
       "        text-align: right;\n",
       "    }\n",
       "</style>\n",
       "<table border=\"1\" class=\"dataframe\">\n",
       "  <thead>\n",
       "    <tr style=\"text-align: right;\">\n",
       "      <th></th>\n",
       "      <th>object_id</th>\n",
       "      <th>time</th>\n",
       "      <th>feature1</th>\n",
       "      <th>assignments</th>\n",
       "    </tr>\n",
       "  </thead>\n",
       "  <tbody>\n",
       "    <tr>\n",
       "      <th>18</th>\n",
       "      <td>1</td>\n",
       "      <td>4.0</td>\n",
       "      <td>0.990274</td>\n",
       "      <td>3</td>\n",
       "    </tr>\n",
       "    <tr>\n",
       "      <th>36</th>\n",
       "      <td>1</td>\n",
       "      <td>7.0</td>\n",
       "      <td>0.771230</td>\n",
       "      <td>6</td>\n",
       "    </tr>\n",
       "    <tr>\n",
       "      <th>30</th>\n",
       "      <td>1</td>\n",
       "      <td>6.0</td>\n",
       "      <td>0.863845</td>\n",
       "      <td>5</td>\n",
       "    </tr>\n",
       "    <tr>\n",
       "      <th>12</th>\n",
       "      <td>1</td>\n",
       "      <td>3.0</td>\n",
       "      <td>0.955281</td>\n",
       "      <td>2</td>\n",
       "    </tr>\n",
       "    <tr>\n",
       "      <th>24</th>\n",
       "      <td>1</td>\n",
       "      <td>5.0</td>\n",
       "      <td>0.950846</td>\n",
       "      <td>4</td>\n",
       "    </tr>\n",
       "  </tbody>\n",
       "</table>\n",
       "</div>"
      ],
      "text/plain": [
       "    object_id  time  feature1  assignments\n",
       "18          1   4.0  0.990274            3\n",
       "36          1   7.0  0.771230            6\n",
       "30          1   6.0  0.863845            5\n",
       "12          1   3.0  0.955281            2\n",
       "24          1   5.0  0.950846            4"
      ]
     },
     "execution_count": 106,
     "metadata": {},
     "output_type": "execute_result"
    }
   ],
   "source": [
    "sample_df[sample_df[\"object_id\"] == 1]"
   ]
  },
  {
   "cell_type": "code",
   "execution_count": 107,
   "metadata": {},
   "outputs": [
    {
     "data": {
      "text/plain": [
       "[[1, 1.0, 0.47497589575666055],\n",
       " [1, 2.0, 0.5748459609007617],\n",
       " [1, 8.0, 0.4649569368496652],\n",
       " [2, 6.0, 0.6034704513697413],\n",
       " [3, 2.0, 0.5748459609007617],\n",
       " [5, 1.0, 0.47497589575666055],\n",
       " [5, 4.0, 0.6036539851180176],\n",
       " [7, 2.0, 0.5748459609007617],\n",
       " [8, 4.0, 0.6036539851180176],\n",
       " [8, 8.0, 0.4649569368496652],\n",
       " [9, 1.0, 0.47497589575666055],\n",
       " [9, 4.0, 0.6036539851180176],\n",
       " [9, 7.0, 0.5633954922608123],\n",
       " [10, 6.0, 0.6034704513697413],\n",
       " [10, 7.0, 0.5633954922608123],\n",
       " [11, 1.0, 0.47497589575666055],\n",
       " [11, 5.0, 0.5120099238537414],\n",
       " [11, 6.0, 0.6034704513697413],\n",
       " [11, 8.0, 0.4649569368496652],\n",
       " [12, 6.0, 0.6034704513697413],\n",
       " [14, 2.0, 0.5748459609007617],\n",
       " [14, 4.0, 0.6036539851180176],\n",
       " [14, 7.0, 0.5633954922608123],\n",
       " [15, 1.0, 0.47497589575666055],\n",
       " [15, 7.0, 0.5633954922608123],\n",
       " [16, 7.0, 0.5633954922608123],\n",
       " [16, 8.0, 0.4649569368496652],\n",
       " [17, 2.0, 0.5748459609007617],\n",
       " [18, 5.0, 0.5120099238537414],\n",
       " [19, 2.0, 0.5748459609007617],\n",
       " [19, 7.0, 0.5633954922608123],\n",
       " [20, 5.0, 0.5120099238537414],\n",
       " [21, 3.0, 0.5991178383948639],\n",
       " [21, 6.0, 0.6034704513697413],\n",
       " [22, 1.0, 0.47497589575666055],\n",
       " [22, 4.0, 0.6036539851180176],\n",
       " [23, 2.0, 0.5748459609007617],\n",
       " [23, 3.0, 0.5991178383948639],\n",
       " [23, 4.0, 0.6036539851180176],\n",
       " [24, 1.0, 0.47497589575666055],\n",
       " [25, 8.0, 0.4649569368496652],\n",
       " [26, 8.0, 0.4649569368496652],\n",
       " [27, 1.0, 0.47497589575666055],\n",
       " [28, 2.0, 0.5748459609007617],\n",
       " [28, 3.0, 0.5991178383948639],\n",
       " [29, 3.0, 0.5991178383948639]]"
      ]
     },
     "execution_count": 107,
     "metadata": {},
     "output_type": "execute_result"
    }
   ],
   "source": [
    "mean_of_all(sample_df, \"object_id\", \"time\", \"feature1\", \"assignments\")"
   ]
  },
  {
   "cell_type": "code",
   "execution_count": 101,
   "metadata": {},
   "outputs": [
    {
     "data": {
      "text/plain": [
       "[[1, 1.0, 0.5054328763582907],\n",
       " [1, 2.0, 0.5850901578362111],\n",
       " [1, 8.0, 0.46554934526924024],\n",
       " [2, 6.0, 0.5866847161634995],\n",
       " [3, 2.0, 0.5850901578362111],\n",
       " [5, 1.0, 0.5054328763582907],\n",
       " [5, 4.0, 0.530831672838457],\n",
       " [7, 2.0, 0.5850901578362111],\n",
       " [8, 4.0, 0.530831672838457],\n",
       " [8, 8.0, 0.46554934526924024],\n",
       " [9, 1.0, 0.5054328763582907],\n",
       " [9, 4.0, 0.530831672838457],\n",
       " [9, 7.0, 0.5242975542212192],\n",
       " [10, 6.0, 0.5866847161634995],\n",
       " [10, 7.0, 0.5242975542212192],\n",
       " [11, 1.0, 0.5054328763582907],\n",
       " [11, 5.0, 0.3788666677042189],\n",
       " [11, 6.0, 0.5866847161634995],\n",
       " [11, 8.0, 0.46554934526924024],\n",
       " [12, 6.0, 0.5866847161634995],\n",
       " [14, 2.0, 0.5850901578362111],\n",
       " [14, 4.0, 0.530831672838457],\n",
       " [14, 7.0, 0.5242975542212192],\n",
       " [15, 1.0, 0.5054328763582907],\n",
       " [15, 7.0, 0.5242975542212192],\n",
       " [16, 7.0, 0.5242975542212192],\n",
       " [16, 8.0, 0.46554934526924024],\n",
       " [17, 2.0, 0.5850901578362111],\n",
       " [18, 5.0, 0.3788666677042189],\n",
       " [19, 2.0, 0.5850901578362111],\n",
       " [19, 7.0, 0.5242975542212192],\n",
       " [20, 5.0, 0.3788666677042189],\n",
       " [21, 3.0, 0.6068497660447094],\n",
       " [21, 6.0, 0.5866847161634995],\n",
       " [22, 1.0, 0.5054328763582907],\n",
       " [22, 4.0, 0.530831672838457],\n",
       " [23, 2.0, 0.5850901578362111],\n",
       " [23, 3.0, 0.6068497660447094],\n",
       " [23, 4.0, 0.530831672838457],\n",
       " [24, 1.0, 0.5054328763582907],\n",
       " [25, 8.0, 0.46554934526924024],\n",
       " [26, 8.0, 0.46554934526924024],\n",
       " [27, 1.0, 0.5054328763582907],\n",
       " [28, 2.0, 0.5850901578362111],\n",
       " [28, 3.0, 0.6068497660447094],\n",
       " [29, 3.0, 0.6068497660447094]]"
      ]
     },
     "execution_count": 101,
     "metadata": {},
     "output_type": "execute_result"
    }
   ],
   "source": [
    "median_of_all(sample_df, \"object_id\", \"time\", \"feature1\", \"assignments\")"
   ]
  },
  {
   "cell_type": "code",
   "execution_count": null,
   "metadata": {},
   "outputs": [],
   "source": [
    "columns = list(sample_df.columns)\n",
    "\n",
    "for row in sample_df.itertuples():\n",
    "    print(getattr(row, random.choice(columns)))"
   ]
  },
  {
   "cell_type": "code",
   "execution_count": null,
   "metadata": {},
   "outputs": [],
   "source": [
    "sample_df"
   ]
  },
  {
   "cell_type": "code",
   "execution_count": null,
   "metadata": {
    "scrolled": true
   },
   "outputs": [],
   "source": [
    "pd.set_option(\"display.max_rows\", None, \"display.max_columns\", None)\n",
    "print(sample_df.sort_values(by=[\"object_id\", \"time\"]))"
   ]
  },
  {
   "cell_type": "code",
   "execution_count": null,
   "metadata": {},
   "outputs": [],
   "source": [
    "id_is_1 = d1[\"object_id\"]==1 #ist ein boolean\n",
    "d1_id_1 = d1[id_is_1]\n",
    "d1_id_1"
   ]
  },
  {
   "cell_type": "code",
   "execution_count": null,
   "metadata": {},
   "outputs": [],
   "source": [
    "sample_df[(sample_df[\"object_id\"] == 1) & (sample_df[\"time\"] == 1)] # sehr wichtig für die anpassung der methoden später!!!!!!"
   ]
  }
 ],
 "metadata": {
  "kernelspec": {
   "display_name": "Python 3",
   "language": "python",
   "name": "python3"
  },
  "language_info": {
   "codemirror_mode": {
    "name": "ipython",
    "version": 3
   },
   "file_extension": ".py",
   "mimetype": "text/x-python",
   "name": "python",
   "nbconvert_exporter": "python",
   "pygments_lexer": "ipython3",
   "version": "3.8.5"
  }
 },
 "nbformat": 4,
 "nbformat_minor": 4
}
